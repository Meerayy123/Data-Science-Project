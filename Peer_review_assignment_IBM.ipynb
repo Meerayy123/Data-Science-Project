{
 "cells": [
  {
   "cell_type": "markdown",
   "id": "120ef856-f27c-4edb-999a-397548fccf54",
   "metadata": {},
   "source": [
    "# Data Science Tools and Ecosystem"
   ]
  },
  {
   "cell_type": "markdown",
   "id": "57de128b-3648-497a-bb3e-879eba707687",
   "metadata": {},
   "source": [
    "## Introduction\n",
    "In this notebook, we will explore some of the most commonly used tools, languages, and libraries in the field of data science. We will also demonstrate some basic arithmetic operations using code cells.\n",
    "\n"
   ]
  },
  {
   "cell_type": "markdown",
   "id": "d69b4c5e-2b97-43e7-a564-57a9dd9bc117",
   "metadata": {},
   "source": [
    "## Data Science Languages\n",
    "Some of the popular languages used in Data Science are:\n",
    "1. Python\n",
    "2. R\n",
    "3. SQL\n",
    "4. Julia\n"
   ]
  },
  {
   "cell_type": "markdown",
   "id": "a13a0e45-79f5-484e-af02-ca619ee687f3",
   "metadata": {},
   "source": [
    "## Data Science Libraries\n",
    "Commonly used libraries used by data scientists include:\n",
    "- Pandas\n",
    "- NumPy\n",
    "- Matplotlib\n",
    "- Scikit-learn\n",
    "- TensorFlow\n",
    "- Keras\n"
   ]
  },
  {
   "cell_type": "markdown",
   "id": "ff3db191-87c7-4cfc-91bf-8b9328d3ec39",
   "metadata": {},
   "source": [
    "## Data Science Tools\n",
    "\n",
    "| Category      | Tool Name       |\n",
    "|---------------|------------------|\n",
    "| IDE           | Jupyter Notebook |\n",
    "| IDE           | RStudio          |\n",
    "| Visualization | Tableau          |\n",
    "| Big Data      | Apache Spark     |\n",
    "| Version Control | Git             |\n"
   ]
  },
  {
   "cell_type": "markdown",
   "id": "e85d193c-13c8-4604-b691-5a1868c8a2f7",
   "metadata": {},
   "source": [
    "## Examples of Arithmetic Expressions\n",
    "Below are examples of simple arithmetic operations like multiplication and addition.\n"
   ]
  },
  {
   "cell_type": "code",
   "execution_count": 11,
   "id": "4013525b-0af4-49eb-8a56-1d44fe6e89be",
   "metadata": {},
   "outputs": [
    {
     "data": {
      "text/plain": [
       "17"
      ]
     },
     "execution_count": 11,
     "metadata": {},
     "output_type": "execute_result"
    }
   ],
   "source": [
    "# This is a simple arithmetic expression to multiply then add integers\n",
    "(3*4)+5\n"
   ]
  },
  {
   "cell_type": "code",
   "execution_count": 13,
   "id": "4d724046-3188-4e71-b1a7-805a16be7b5f",
   "metadata": {},
   "outputs": [
    {
     "data": {
      "text/plain": [
       "3.3333333333333335"
      ]
     },
     "execution_count": 13,
     "metadata": {},
     "output_type": "execute_result"
    }
   ],
   "source": [
    "# This will convert 200 minutes to hours by dividing by 60\n",
    "200 / 60\n"
   ]
  },
  {
   "cell_type": "markdown",
   "id": "e6e9a310-344d-4938-97e2-ab41a70a384f",
   "metadata": {},
   "source": [
    "## Objectives\n",
    "In this notebook we will cover:\n",
    "- Popular languages for Data Science\n",
    "- Common libraries used in Data Science\n",
    "- Data Science development tools\n",
    "- Simple arithmetic operations in Python\n"
   ]
  },
  {
   "cell_type": "markdown",
   "id": "9a6cd947-7e7d-489c-b97c-cbf1262cf370",
   "metadata": {},
   "source": [
    "## Author\n",
    "Manav Kylasa \n"
   ]
  }
 ],
 "metadata": {
  "kernelspec": {
   "display_name": "Python 3 (ipykernel)",
   "language": "python",
   "name": "python3"
  },
  "language_info": {
   "codemirror_mode": {
    "name": "ipython",
    "version": 3
   },
   "file_extension": ".py",
   "mimetype": "text/x-python",
   "name": "python",
   "nbconvert_exporter": "python",
   "pygments_lexer": "ipython3",
   "version": "3.12.4"
  }
 },
 "nbformat": 4,
 "nbformat_minor": 5
}
